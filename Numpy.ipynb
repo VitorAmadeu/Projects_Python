{
 "cells": [
  {
   "cell_type": "markdown",
   "id": "8b3d4e65-6405-4e75-bda4-44e77747d70e",
   "metadata": {
    "tags": []
   },
   "source": [
    "importando a Biblioteca Numpy (Trabalhando com Arrays)"
   ]
  },
  {
   "cell_type": "code",
   "execution_count": 79,
   "id": "a41b9d04-a0ce-48ad-87ce-04a4a25de4ae",
   "metadata": {
    "tags": []
   },
   "outputs": [],
   "source": [
    "import numpy as np"
   ]
  },
  {
   "cell_type": "markdown",
   "id": "1023538d-0830-4be2-af08-775dda81f23d",
   "metadata": {},
   "source": [
    "criando uma matriz unidimensional"
   ]
  },
  {
   "cell_type": "code",
   "execution_count": 80,
   "id": "f5716ed6-6fe0-4f14-bfc1-17c758398d2e",
   "metadata": {
    "tags": []
   },
   "outputs": [
    {
     "name": "stdout",
     "output_type": "stream",
     "text": [
      "[12 23 45 67 78]\n"
     ]
    }
   ],
   "source": [
    "mt = np.array([12,23,45,67,78])\n",
    "print (mt)"
   ]
  },
  {
   "cell_type": "code",
   "execution_count": 81,
   "id": "1c32e9db-0e4b-490f-bf4b-db70a33ed867",
   "metadata": {
    "tags": []
   },
   "outputs": [
    {
     "name": "stdout",
     "output_type": "stream",
     "text": [
      "[1. 2. 3.]\n",
      "<class 'numpy.ndarray'>\n",
      "[1 2 3 4] <class 'numpy.ndarray'>\n"
     ]
    }
   ],
   "source": [
    "#Criar array de um tipos especifico\n",
    "#array do tipo float\n",
    "mtfloat = np.array([1,2,3], dtype = np.float64)\n",
    "print(mtfloat)\n",
    "print(type(mtfloat))\n",
    "\n",
    "#array do tipo int\n",
    "mtint = np.array([1,2,3,4], dtype = np.int32)\n",
    "print (mtint , type(mtint))\n",
    "\n",
    "\n"
   ]
  },
  {
   "cell_type": "code",
   "execution_count": 82,
   "id": "e57054e6-0338-4481-9570-6dab78d3eb30",
   "metadata": {
    "tags": []
   },
   "outputs": [
    {
     "name": "stdout",
     "output_type": "stream",
     "text": [
      "[12 23 45 67 78]\n"
     ]
    }
   ],
   "source": [
    "#mudar o tipo do array \n",
    "mtint = np.array([12.65,23.43,45.55,67.66,78.32])\n",
    "\n",
    "#usando a função(.astype(tipo do dado que deseja))\n",
    "mtint_new = mtint.astype(np.int32)\n",
    "print (mtint_new)"
   ]
  },
  {
   "cell_type": "code",
   "execution_count": 83,
   "id": "6da09d8e-c8da-4bbf-a56a-08d89f01984c",
   "metadata": {
    "tags": []
   },
   "outputs": [
    {
     "name": "stdout",
     "output_type": "stream",
     "text": [
      "([1, 2, 3], [4, 5, 6], [7, 8, 9])\n"
     ]
    }
   ],
   "source": [
    "#criar uma matriz bidimensional\n",
    "mt_bi = ([1,2,3],[4,5,6],[7,8,9])\n",
    "print(mt_bi)"
   ]
  },
  {
   "cell_type": "code",
   "execution_count": 84,
   "id": "aea596aa-9df5-4527-93d7-2f0465232c41",
   "metadata": {
    "tags": []
   },
   "outputs": [
    {
     "name": "stdout",
     "output_type": "stream",
     "text": [
      "[[         0 1072693248]\n",
      " [         0 1073741824]\n",
      " [         0 1074266112]]\n"
     ]
    }
   ],
   "source": [
    "#criar arrays vazias tipificadas\n",
    "# np.empty([tamanho da matriz], dtype = tipo do dados)\n",
    "mt2 = np.empty([3,2], dtype = int)\n",
    "print(mt2)"
   ]
  },
  {
   "cell_type": "code",
   "execution_count": 85,
   "id": "bd93406a-6157-4d22-8e4e-08538c17d953",
   "metadata": {
    "tags": []
   },
   "outputs": [
    {
     "name": "stdout",
     "output_type": "stream",
     "text": [
      "[[0. 0. 0.]\n",
      " [0. 0. 0.]\n",
      " [0. 0. 0.]]\n"
     ]
    }
   ],
   "source": [
    "# criar  matriz com valores zeros\n",
    "# np.zeros([tamanho da matriz])\n",
    "mt3 = np.zeros([3,3])\n",
    "print(mt3)"
   ]
  },
  {
   "cell_type": "code",
   "execution_count": 86,
   "id": "dc4bf467-4e48-4f17-bb6d-08b39d98f55a",
   "metadata": {
    "tags": []
   },
   "outputs": [
    {
     "name": "stdout",
     "output_type": "stream",
     "text": [
      "[[1. 1.]\n",
      " [1. 1.]\n",
      " [1. 1.]]\n"
     ]
    }
   ],
   "source": [
    "# criar matris com valores igual a 1 \n",
    "#np.ones([Tamanho da matriz])\n",
    "\n",
    "mt4 = np.ones([3,2])\n",
    "print(mt4)"
   ]
  },
  {
   "cell_type": "code",
   "execution_count": 87,
   "id": "d41bb7b0-dac0-4c6e-baf2-21912279d046",
   "metadata": {
    "tags": []
   },
   "outputs": [
    {
     "name": "stdout",
     "output_type": "stream",
     "text": [
      "[[1. 0.]\n",
      " [0. 1.]]\n"
     ]
    }
   ],
   "source": [
    "# criar matriz com diagonal principal igual a 1 e os demais numeros igual a zero\n",
    "#np.eye(n = tamanho da matriz (deve ser matriz quadratica n x n))\n",
    "mt5 = np.eye(2)\n",
    "print(mt5)"
   ]
  },
  {
   "cell_type": "markdown",
   "id": "2b376ad2-2272-4ee3-a3cd-f4d048dad778",
   "metadata": {},
   "source": [
    "[ np.random ] sempre cria valores entre zero e um positivo e um negativo"
   ]
  },
  {
   "cell_type": "code",
   "execution_count": 88,
   "id": "764dcc48-694e-4433-a554-8b875aa6916a",
   "metadata": {
    "tags": []
   },
   "outputs": [
    {
     "name": "stdout",
     "output_type": "stream",
     "text": [
      "[0.98880295 0.46898047 0.6020406  0.44433452 0.95412468 0.81204761]\n"
     ]
    }
   ],
   "source": [
    "# criando arrays com valores aleatorios entre zero e um\n",
    "mt6 = np.random.random((6))\n",
    "print(mt6)"
   ]
  },
  {
   "cell_type": "code",
   "execution_count": 89,
   "id": "146b48c2-8f3f-450e-802a-41fd7ca9d477",
   "metadata": {
    "tags": []
   },
   "outputs": [
    {
     "name": "stdout",
     "output_type": "stream",
     "text": [
      "[-1.17928119  1.67338156 -0.62135547 -1.55835039  0.87165723]\n"
     ]
    }
   ],
   "source": [
    "# criando valores aleatorios normal(Real)\n",
    "mt7 = np.random.randn((5))\n",
    "print(mt7)"
   ]
  },
  {
   "cell_type": "code",
   "execution_count": 90,
   "id": "bcbdfd5b-3d84-4177-83a0-fe35a92b9799",
   "metadata": {
    "tags": []
   },
   "outputs": [
    {
     "name": "stdout",
     "output_type": "stream",
     "text": [
      "[[3.46445603 8.33918506 6.36661061 2.97568769]\n",
      " [3.81439538 2.53008585 6.95800224 5.56835603]\n",
      " [8.87053112 3.84702141 9.25703618 0.73294751]]\n"
     ]
    }
   ],
   "source": [
    "# criando matriz com valores aleatorios \n",
    "mt8 = (10*np.random.random((3,4)))\n",
    "print(mt8)"
   ]
  },
  {
   "cell_type": "code",
   "execution_count": 91,
   "id": "b8118616-e280-4c72-a979-ea8594864193",
   "metadata": {
    "tags": []
   },
   "outputs": [
    {
     "name": "stdout",
     "output_type": "stream",
     "text": [
      "[0.51182162 0.9504637  0.14415961]\n",
      "Generator(PCG64)\n"
     ]
    }
   ],
   "source": [
    "# outra forma de criar valores aleatorios\n",
    "gnr = np.random.default_rng(1)\n",
    "mt9 = gnr.random(3)\n",
    "print(mt9)\n",
    "print (gnr)"
   ]
  },
  {
   "cell_type": "code",
   "execution_count": 92,
   "id": "996dd521-0ebb-4339-ac00-49e128edb177",
   "metadata": {
    "tags": []
   },
   "outputs": [
    {
     "name": "stdout",
     "output_type": "stream",
     "text": [
      "[[8 9 2 3]\n",
      " [8 4 2 8]\n",
      " [2 4 6 5]]\n"
     ]
    }
   ],
   "source": [
    "#gerar array de inteiros\n",
    "\n",
    "mt10 = gnr.integers(10, size=(3,4))\n",
    "print(mt10)"
   ]
  },
  {
   "cell_type": "code",
   "execution_count": 93,
   "id": "47aaa280",
   "metadata": {},
   "outputs": [
    {
     "name": "stdout",
     "output_type": "stream",
     "text": [
      "[ 1  2  3  4  5  7  8  9 20 56]\n"
     ]
    }
   ],
   "source": [
    "# np.unique(array_nome) remove repetições\n",
    "mt11 = np.array([1,1,2,3,4,4,5,56,7,8,8,9,20])\n",
    "mt11 = np.unique(mt11)\n",
    "print(mt11)"
   ]
  },
  {
   "cell_type": "code",
   "execution_count": 94,
   "id": "78b6a115-fc59-4cec-b2db-c91e0fa01bf9",
   "metadata": {},
   "outputs": [
    {
     "name": "stdout",
     "output_type": "stream",
     "text": [
      "[[1 2 3]\n",
      " [4 5 6]\n",
      " [7 8 9]]\n",
      "3\n",
      "(3, 3)\n"
     ]
    }
   ],
   "source": [
    "# função para matrizes\n",
    "mt_bi =np.array([[1,2,3],[4,5,6],[7,8,9]])\n",
    "print(mt_bi)\n",
    "# acessar elemento da matriz/ Nome_matriz[linha][coluna]\n",
    "print(mt_bi[0][2])\n",
    "# saber o tamanaho da matriz/ Nome_matriz.shape\n",
    "print(mt_bi.shape)"
   ]
  },
  {
   "cell_type": "code",
   "execution_count": 95,
   "id": "534c65a2",
   "metadata": {},
   "outputs": [
    {
     "name": "stdout",
     "output_type": "stream",
     "text": [
      "9\n",
      "1\n",
      "45\n",
      "5.0\n",
      "2.581988897471611\n"
     ]
    }
   ],
   "source": [
    "#funções matematicas\n",
    "#mostra o maior valor da matriz\n",
    "print(mt_bi.max())\n",
    "#mostra o menor valor da matriz\n",
    "print(mt_bi.min())\n",
    "#mostra a soma dos valores da matriz\n",
    "print(mt_bi.sum())\n",
    "#mostra o valor da media dos valores da matriz\n",
    "print(mt_bi.mean())\n",
    "#mostra o valor do desvio padrão dos valores da matriz\n",
    "print(mt_bi.std())"
   ]
  },
  {
   "cell_type": "code",
   "execution_count": 96,
   "id": "d4b9dc4c",
   "metadata": {},
   "outputs": [
    {
     "name": "stdout",
     "output_type": "stream",
     "text": [
      "[1. 2. 3. 4. 5. 6.]\n",
      "[2.71828183e+00 5.45981500e+01 8.10308393e+03 8.88611052e+06\n",
      " 7.20048993e+10 4.31123155e+15]\n"
     ]
    }
   ],
   "source": [
    "#funções universais aplicadas a todos os elemnentos da matriz\n",
    "#calcula a raiz quadrada de cada elemento\n",
    "mt12 = np.array([1,4,9,16,25,36])\n",
    "print(np.sqrt(mt12))\n",
    "#mostra o valor exponencial de cada eleemnto\n",
    "print(np.exp(mt12))"
   ]
  },
  {
   "cell_type": "code",
   "execution_count": 97,
   "id": "a4d8896f",
   "metadata": {},
   "outputs": [
    {
     "name": "stdout",
     "output_type": "stream",
     "text": [
      "[1 4]\n",
      "[ 9 16 25]\n",
      "[ 1  4  9 16 25]\n",
      "[16 25 36]\n"
     ]
    }
   ],
   "source": [
    "#extração de elemento\n",
    "#Nome_array[valor incial: valor final] percorre a alista do elemento inicial até o final\n",
    "#ignora o ultimo valor\n",
    "print(mt12[0:2])\n",
    "print(mt12[2:5])\n",
    "print(mt12[:5])\n",
    "print(mt12[3:])"
   ]
  },
  {
   "cell_type": "code",
   "execution_count": 98,
   "id": "1d47c6d4",
   "metadata": {},
   "outputs": [
    {
     "name": "stdout",
     "output_type": "stream",
     "text": [
      "[[1 2]\n",
      " [4 5]]\n"
     ]
    }
   ],
   "source": [
    "#extração de elemento matriz\n",
    "#Nome_matriz[linhaInicial:linhaFinal,ColunaInicial:ColunaFinal]\n",
    "print(mt_bi[:2,:2])"
   ]
  },
  {
   "cell_type": "code",
   "execution_count": 99,
   "id": "972c3057",
   "metadata": {},
   "outputs": [
    {
     "name": "stdout",
     "output_type": "stream",
     "text": [
      "[[21  5  9]\n",
      " [ 5  8 13]\n",
      " [12  9 18]]\n",
      "[[20  6 18]\n",
      " [ 4 15 42]\n",
      " [35  8 81]]\n"
     ]
    }
   ],
   "source": [
    "#adição e multiplicação de matrizes\n",
    "mt_bi =np.array([[1,2,3],[4,5,6],[7,8,9]])\n",
    "mt_bi_2 =np.array([[20,3,6],[1,3,7],[5,1,9]])\n",
    "\n",
    "rest_Soma = mt_bi + mt_bi_2 \n",
    "print(rest_Soma)\n",
    "rest_Multi = mt_bi*mt_bi_2\n",
    "print(rest_Multi)\n"
   ]
  },
  {
   "cell_type": "code",
   "execution_count": 107,
   "id": "8acc0a06",
   "metadata": {},
   "outputs": [
    {
     "name": "stdout",
     "output_type": "stream",
     "text": [
      "[[20  3  6]\n",
      " [ 1  3  7]]\n",
      "\n",
      "\n",
      "[[20  1]\n",
      " [ 3  3]\n",
      " [ 6  7]]\n",
      "\n",
      "[[20  1]\n",
      " [ 3  3]\n",
      " [ 6  7]]\n"
     ]
    }
   ],
   "source": [
    "#transposição de matrizes\n",
    "mt_bi_3 =np.array([[20,3,6],[1,3,7]])\n",
    "print(mt_bi_3)\n",
    "print(\"\\n\")\n",
    "mt_bi_3_t = mt_bi_3.T\n",
    "print(mt_bi_3_t)\n",
    "\n",
    "#outra forma de fazer a transposição\n",
    "mt_bi_3_t = mt_bi_3.transpose((1,0))\n",
    "print(F\"\\n{mt_bi_3_t}\")"
   ]
  },
  {
   "cell_type": "code",
   "execution_count": 108,
   "id": "39a16451",
   "metadata": {},
   "outputs": [
    {
     "name": "stdout",
     "output_type": "stream",
     "text": [
      "[[-0.75793849  0.55972762 -0.09286556  0.20470806]\n",
      " [-0.97415463 -1.63173564  0.58827678 -0.33448568]\n",
      " [ 1.98834527  0.52018408 -0.52558817 -1.29290666]\n",
      " [ 1.08818113 -2.4240668   0.51652235  1.31846644]]\n",
      "[[False  True False  True]\n",
      " [False False  True False]\n",
      " [ True  True False False]\n",
      " [ True False  True  True]]\n",
      "[[-1  1 -1  1]\n",
      " [-1 -1  1 -1]\n",
      " [ 1  1 -1 -1]\n",
      " [ 1 -1  1  1]]\n"
     ]
    }
   ],
   "source": [
    "#expressão lógicas \n",
    "#criando matrizes com nuemros aleatorios\n",
    "v = np.random.randn(4,4)\n",
    "print(v)\n",
    "#se os numeros for maior que zero ficam true , se não fica false\n",
    "x = (v>0)\n",
    "print(x)\n",
    "# testa a matriz x , se a condição for corresponde fica 1 , se não fica -1\n",
    "#np.where(condição, true (faz isso) ,false(faz isso))\n",
    "z = np.where(x>0,1,-1)\n",
    "print(z)"
   ]
  },
  {
   "cell_type": "code",
   "execution_count": null,
   "id": "81343b43",
   "metadata": {},
   "outputs": [],
   "source": []
  }
 ],
 "metadata": {
  "kernelspec": {
   "display_name": "Python 3 (ipykernel)",
   "language": "python",
   "name": "python3"
  },
  "language_info": {
   "codemirror_mode": {
    "name": "ipython",
    "version": 3
   },
   "file_extension": ".py",
   "mimetype": "text/x-python",
   "name": "python",
   "nbconvert_exporter": "python",
   "pygments_lexer": "ipython3",
   "version": "3.11.5"
  }
 },
 "nbformat": 4,
 "nbformat_minor": 5
}
